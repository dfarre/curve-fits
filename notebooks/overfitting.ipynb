{
 "cells": [
  {
   "cell_type": "code",
   "execution_count": 1,
   "metadata": {},
   "outputs": [],
   "source": [
    "import collections\n",
    "import random\n",
    "\n",
    "import numpy\n",
    "import pandas\n",
    "\n",
    "from tcp_fits import Call\n",
    "\n",
    "from tcp_fits import series_fits"
   ]
  },
  {
   "cell_type": "code",
   "execution_count": 6,
   "metadata": {},
   "outputs": [],
   "source": [
    "index = numpy.arange(0, 10, 0.1)\n",
    "\n",
    "def fit(overfit):\n",
    "    frame = series_fits.FittingFrame(\n",
    "        {'line': [random.gauss(-0.5 + 2*x, 1.5) for x in index]},\n",
    "        fraction=0.9, overfit=overfit, index=index)\n",
    "    frame.fit(line=[Call('polynomial', *[1, 2])])\n",
    "\n",
    "    return frame\n",
    "\n",
    "def assert_sample(length):\n",
    "    nd, pd = map(collections.Counter, (\n",
    "        [fit(-8).best_fits.at['line', 'degree'] for x in range(length)],\n",
    "        [fit(8).best_fits.at['line', 'degree'] for x in range(length)]))\n",
    "    assert nd[2] < pd[2], (nd, pd)"
   ]
  },
  {
   "cell_type": "code",
   "execution_count": 7,
   "metadata": {},
   "outputs": [],
   "source": [
    "assert_sample(60)"
   ]
  },
  {
   "cell_type": "code",
   "execution_count": null,
   "metadata": {},
   "outputs": [],
   "source": []
  }
 ],
 "metadata": {
  "kernelspec": {
   "display_name": "Python 3",
   "language": "python",
   "name": "python3"
  },
  "language_info": {
   "codemirror_mode": {
    "name": "ipython",
    "version": 3
   },
   "file_extension": ".py",
   "mimetype": "text/x-python",
   "name": "python",
   "nbconvert_exporter": "python",
   "pygments_lexer": "ipython3",
   "version": "3.6.7"
  }
 },
 "nbformat": 4,
 "nbformat_minor": 2
}
