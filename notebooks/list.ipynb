{
 "cells": [
  {
   "cell_type": "code",
   "execution_count": 1,
   "metadata": {},
   "outputs": [],
   "source": [
    "import random\n",
    "\n",
    "import pandas\n",
    "\n",
    "from tcp_fits import Call\n",
    "\n",
    "from tcp_fits.profiles import TypeProfile"
   ]
  },
  {
   "cell_type": "code",
   "execution_count": 2,
   "metadata": {},
   "outputs": [],
   "source": [
    "def random_ints_array(size, max_abs=100):\n",
    "    return random.choices(range(-max_abs, max_abs), k=size)"
   ]
  },
  {
   "cell_type": "code",
   "execution_count": 10,
   "metadata": {},
   "outputs": [],
   "source": [
    "size_range = range(1000, 2000)\n",
    "profile = TypeProfile(\n",
    "    [Call('list', random_ints_array(size)) for size in size_range],\n",
    "    Call('pop'), Call('__getitem__', 0), Call('__setitem__', 0, 7),\n",
    "    Call('copy'), Call('insert', 0, 0),\n",
    "    index=pandas.Index(size_range, name='List length'), loops=10, overfit=-6, fraction=0.7)"
   ]
  },
  {
   "cell_type": "code",
   "execution_count": 11,
   "metadata": {},
   "outputs": [],
   "source": [
    "profile.fit_all_with(Call('polynomial', *[1, 2]))"
   ]
  },
  {
   "cell_type": "code",
   "execution_count": 12,
   "metadata": {},
   "outputs": [
    {
     "data": {
      "text/html": [
       "<div>\n",
       "<style scoped>\n",
       "    .dataframe tbody tr th:only-of-type {\n",
       "        vertical-align: middle;\n",
       "    }\n",
       "\n",
       "    .dataframe tbody tr th {\n",
       "        vertical-align: top;\n",
       "    }\n",
       "\n",
       "    .dataframe thead th {\n",
       "        text-align: right;\n",
       "    }\n",
       "</style>\n",
       "<table border=\"1\" class=\"dataframe\">\n",
       "  <thead>\n",
       "    <tr style=\"text-align: right;\">\n",
       "      <th></th>\n",
       "      <th>fit</th>\n",
       "      <th>degree</th>\n",
       "      <th>cost</th>\n",
       "    </tr>\n",
       "  </thead>\n",
       "  <tbody>\n",
       "    <tr>\n",
       "      <th>pop</th>\n",
       "      <td>(0.0243 ± 0.0017) + (-0.0000263 ± 0.0000023)x ...</td>\n",
       "      <td>2</td>\n",
       "      <td>0.000004</td>\n",
       "    </tr>\n",
       "    <tr>\n",
       "      <th>getitem</th>\n",
       "      <td>(-0.0331 ± 0.0032) + (0.0000772 ± 0.0000044)x ...</td>\n",
       "      <td>2</td>\n",
       "      <td>0.000007</td>\n",
       "    </tr>\n",
       "    <tr>\n",
       "      <th>setitem</th>\n",
       "      <td>(-0.00204 ± 0.00017) + (0.00001826 ± 1.1E-7)x</td>\n",
       "      <td>1</td>\n",
       "      <td>0.000002</td>\n",
       "    </tr>\n",
       "    <tr>\n",
       "      <th>copy</th>\n",
       "      <td>(-0.00276 ± 0.00016) + (0.00002026 ± 1.1E-7)x</td>\n",
       "      <td>1</td>\n",
       "      <td>0.000002</td>\n",
       "    </tr>\n",
       "    <tr>\n",
       "      <th>insert</th>\n",
       "      <td>(-0.00263 ± 0.00014) + (0.000019222 ± 9.3E-8)x</td>\n",
       "      <td>1</td>\n",
       "      <td>0.000002</td>\n",
       "    </tr>\n",
       "  </tbody>\n",
       "</table>\n",
       "</div>"
      ],
      "text/plain": [
       "                                                       fit  degree      cost\n",
       "pop      (0.0243 ± 0.0017) + (-0.0000263 ± 0.0000023)x ...       2  0.000004\n",
       "getitem  (-0.0331 ± 0.0032) + (0.0000772 ± 0.0000044)x ...       2  0.000007\n",
       "setitem      (-0.00204 ± 0.00017) + (0.00001826 ± 1.1E-7)x       1  0.000002\n",
       "copy         (-0.00276 ± 0.00016) + (0.00002026 ± 1.1E-7)x       1  0.000002\n",
       "insert      (-0.00263 ± 0.00014) + (0.000019222 ± 9.3E-8)x       1  0.000002"
      ]
     },
     "execution_count": 12,
     "metadata": {},
     "output_type": "execute_result"
    }
   ],
   "source": [
    "profile.best_fits"
   ]
  },
  {
   "cell_type": "code",
   "execution_count": 6,
   "metadata": {},
   "outputs": [
    {
     "ename": "AssertionError",
     "evalue": "",
     "output_type": "error",
     "traceback": [
      "\u001b[0;31m---------------------------------------------------------------------------\u001b[0m",
      "\u001b[0;31mAssertionError\u001b[0m                            Traceback (most recent call last)",
      "\u001b[0;32m<ipython-input-6-8f48b900fb14>\u001b[0m in \u001b[0;36m<module>\u001b[0;34m\u001b[0m\n\u001b[0;32m----> 1\u001b[0;31m \u001b[0;32massert\u001b[0m \u001b[0mlist\u001b[0m\u001b[0;34m(\u001b[0m\u001b[0mprofile\u001b[0m\u001b[0;34m.\u001b[0m\u001b[0mbest_fits\u001b[0m\u001b[0;34m.\u001b[0m\u001b[0mdegree\u001b[0m\u001b[0;34m)\u001b[0m \u001b[0;34m==\u001b[0m \u001b[0;34m[\u001b[0m\u001b[0;36m1\u001b[0m\u001b[0;34m]\u001b[0m\u001b[0;34m*\u001b[0m\u001b[0;36m5\u001b[0m\u001b[0;34m\u001b[0m\u001b[0;34m\u001b[0m\u001b[0m\n\u001b[0m",
      "\u001b[0;31mAssertionError\u001b[0m: "
     ]
    }
   ],
   "source": [
    "assert list(profile.best_fits.degree) == [1]*5"
   ]
  },
  {
   "cell_type": "code",
   "execution_count": null,
   "metadata": {},
   "outputs": [],
   "source": [
    "profile.show()"
   ]
  }
 ],
 "metadata": {
  "kernelspec": {
   "display_name": "Python 3",
   "language": "python",
   "name": "python3"
  },
  "language_info": {
   "codemirror_mode": {
    "name": "ipython",
    "version": 3
   },
   "file_extension": ".py",
   "mimetype": "text/x-python",
   "name": "python",
   "nbconvert_exporter": "python",
   "pygments_lexer": "ipython3",
   "version": "3.6.7"
  }
 },
 "nbformat": 4,
 "nbformat_minor": 2
}
